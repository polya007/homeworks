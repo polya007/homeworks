{
 "cells": [
  {
   "cell_type": "code",
   "execution_count": null,
   "metadata": {},
   "outputs": [],
   "source": [
    "# Задача №1\n",
    "\n",
    "n = int(input(\"Сколько пингвинов нужно вывести на экран? Введи число от 1 до 9:\"))\n",
    "\n",
    "a = '    _~_    '  \n",
    "b = '   (o o)   '\n",
    "c = '  /  V  \\  '\n",
    "d = ' /(  _  )\\ '\n",
    "e = '   ^^ ^^   '\n",
    "\n",
    "print(n)\n",
    "print(a*n)\n",
    "print(b*n)\n",
    "print(c*n)\n",
    "print(d*e)\n",
    "print(e*n)\n"
   ]
  },
  {
   "cell_type": "code",
   "execution_count": null,
   "metadata": {},
   "outputs": [],
   "source": []
  }
 ],
 "metadata": {
  "kernelspec": {
   "display_name": "Python 3",
   "language": "python",
   "name": "python3"
  },
  "language_info": {
   "codemirror_mode": {
    "name": "ipython",
    "version": 3
   },
   "file_extension": ".py",
   "mimetype": "text/x-python",
   "name": "python",
   "nbconvert_exporter": "python",
   "pygments_lexer": "ipython3",
   "version": "3.6.4"
  }
 },
 "nbformat": 4,
 "nbformat_minor": 2
}
